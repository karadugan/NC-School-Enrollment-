{
  "nbformat": 4,
  "nbformat_minor": 0,
  "metadata": {
    "colab": {
      "provenance": []
    },
    "kernelspec": {
      "name": "python3",
      "display_name": "Python 3"
    },
    "language_info": {
      "name": "python"
    }
  },
  "cells": [
    {
      "cell_type": "markdown",
      "source": [
        "# Feeder 3.1\n",
        "\n",
        "## Importing Packages\n",
        "\n",
        "In Colab, we are going to download packages to aid us with our Python Coding"
      ],
      "metadata": {
        "id": "Urb_pDCJwcat"
      }
    },
    {
      "cell_type": "code",
      "execution_count": null,
      "metadata": {
        "id": "K8QctyJ0rimw"
      },
      "outputs": [],
      "source": [
        "import numpy as np\n",
        "import pandas as pd"
      ]
    },
    {
      "cell_type": "markdown",
      "source": [
        "## Creating a Pathway\n",
        "\n",
        "Link the notebook to a Google Drive Pathway to clearly access and reload the dataset, using the following code\n",
        "\n"
      ],
      "metadata": {
        "id": "iq7PgFZNuzkO"
      }
    },
    {
      "cell_type": "code",
      "source": [
        "ed_df=pd.read_csv('/content/drive/MyDrive/Colab Notebooks/nced.csv')"
      ],
      "metadata": {
        "id": "NjI10wxerve9"
      },
      "execution_count": null,
      "outputs": []
    },
    {
      "cell_type": "markdown",
      "source": [
        "\n",
        "## Subsetting Data\n",
        "\n",
        "### Total Enrollment\n",
        "\n",
        "From the larger dataset we are going to select certain data outlining total enrollment to create subset showing enrollment rates across age groups and schools in NC\n",
        "\n",
        "Name this subset whatever you choose and use the ed_df command to create a subset\n",
        "\n",
        "Format as following"
      ],
      "metadata": {
        "id": "pRCcfUk1yGms"
      }
    },
    {
      "cell_type": "code",
      "source": [
        "enrolled=ed_df[[\"Label (Grouping)\",\"North Carolina!!Total!!Estimate\",\"North Carolina!!Percent!!Estimate\"]][0:11]"
      ],
      "metadata": {
        "id": "S4rWf9OqAfJG"
      },
      "execution_count": null,
      "outputs": []
    },
    {
      "cell_type": "markdown",
      "source": [
        "\n",
        "We are using the relevant columns and their respective data within this subset\n",
        "\n",
        "The data used is represented by the column names included in the brackets\n",
        "\n",
        "The second pair of brackets represents the rows within the columns that will be included (their numeric value)"
      ],
      "metadata": {
        "id": "lH-48rTvyJO6"
      }
    },
    {
      "cell_type": "markdown",
      "source": [
        "## Second Subset\n",
        "\n",
        "We are going to create a second subset using Private and Public School Data\n",
        "\n",
        "To do this, we will use the same commands, but name the subset differently\n",
        "\n",
        "We will code as follows"
      ],
      "metadata": {
        "id": "m-2fmnkTyq2y"
      }
    },
    {
      "cell_type": "code",
      "source": [
        "private_public=ed_df.iloc[0:11,[0, 5, 7, 9, 11] ]"
      ],
      "metadata": {
        "id": "b5qUhh2CCGl3"
      },
      "execution_count": null,
      "outputs": []
    },
    {
      "cell_type": "markdown",
      "source": [
        "This second subset contains row and column information representing enrollment in Public and Private schools separately\n",
        "\n",
        "This time, the first set of brackets used still represents the columns to be included but uses their numeric order value rather than their written names\n",
        "\n",
        "The second bracket set still outlines the rows to be included in their numeric order value\n",
        "\n",
        "## Downloading Subsets\n",
        "\n",
        "Now that we have created two subsets, we will download their respective .csv files to our computer\n",
        "\n",
        "To do this, we will use the .to_csv command\n",
        "\n",
        "This command will be performed twice, once for each new subset\n",
        "\n",
        "You will use whatever name you picked for your subsets and code as follows"
      ],
      "metadata": {
        "id": "BFhlMpxQyuPq"
      }
    },
    {
      "cell_type": "code",
      "source": [
        "enrolled.to_csv(\"Enrolled.csv\", index=False)"
      ],
      "metadata": {
        "id": "Q6FP7Tr1f6eA"
      },
      "execution_count": null,
      "outputs": []
    },
    {
      "cell_type": "code",
      "source": [
        "private_public.to_csv(\"PrivatePublic.csv\", index=False)"
      ],
      "metadata": {
        "id": "pufrioQHgHzL"
      },
      "execution_count": null,
      "outputs": []
    },
    {
      "cell_type": "markdown",
      "source": [
        "This will save the .csv files to your computer that you will locate and use for your reproduction means"
      ],
      "metadata": {
        "id": "Sn5x2S-yzgDK"
      }
    }
  ]
}