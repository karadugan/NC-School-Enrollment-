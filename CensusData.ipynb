{
  "nbformat": 4,
  "nbformat_minor": 0,
  "metadata": {
    "colab": {
      "provenance": []
    },
    "kernelspec": {
      "name": "python3",
      "display_name": "Python 3"
    },
    "language_info": {
      "name": "python"
    }
  },
  "cells": [
    {
      "cell_type": "markdown",
      "source": [
        "# Feeder 3.1\n",
        "\n",
        "## Importing Packages\n",
        "\n",
        "In Colab, we are going to download packages to aid us with our Python Coding\n",
        "\n",
        "The packages used are going to be called \"numpy\" and \"pandas\"\n",
        "\n",
        "To import, you will write \"Import *package name* as *what you want package to be called*\""
      ],
      "metadata": {
        "id": "Urb_pDCJwcat"
      }
    },
    {
      "cell_type": "code",
      "execution_count": null,
      "metadata": {
        "id": "K8QctyJ0rimw"
      },
      "outputs": [],
      "source": [
        "import numpy as np\n",
        "import pandas as pd"
      ]
    },
    {
      "cell_type": "markdown",
      "source": [
        "# Sourcing Data\n",
        "\n",
        "The data used was sourced from the United States Census Bureau\n",
        "This data is a combination of estimations and information collected in 2022 by the American Community Survey\n",
        "\n",
        "The data can be found using this link\n",
        "[https://data.census.gov/](https://data.census.gov/table/ACSST1Y2022.S1401?q=schools%20in%20north%20carolina)\n",
        "\n",
        "To download the data, navigate near the top of that link\n",
        "\n",
        "Find the icon that resembles a page with a banner accross it labeled \"CSV\"\n",
        "\n",
        "Click that icon and select the option to download the file"
      ],
      "metadata": {
        "id": "JuG_mSBNcx1N"
      }
    },
    {
      "cell_type": "markdown",
      "source": [
        "## Creating a Pathway\n",
        "\n",
        "Link the notebook to a Google Drive Pathway to clearly access and reload the dataset, using the following code ((name_of_file)=pd.read_csv(Pathway_to_file))\n",
        "\n",
        "\n"
      ],
      "metadata": {
        "id": "iq7PgFZNuzkO"
      }
    },
    {
      "cell_type": "code",
      "source": [
        "ed_df=pd.read_csv('/content/drive/MyDrive/Colab Notebooks/nced.csv')"
      ],
      "metadata": {
        "id": "NjI10wxerve9"
      },
      "execution_count": null,
      "outputs": []
    },
    {
      "cell_type": "markdown",
      "source": [
        "\n",
        "This code will be created by going to the folder icon to the left of your notebook, locating the .csv file you will be using, and right clicking to select *copy pathway*\n",
        "\n",
        "You then paste that pathway following the red_csv command inside parentheses\n",
        "\n",
        "To get the data into a drive, create a folder in your drive with the name of your project and upload the files from the census bureau into it\n",
        "\n",
        "Colab will link from your drive and will be found under the folder icon to the left as \"My Drive\"\n",
        "\n",
        "Locate the folder within the \"My Drive\" folder that you created and uploaded the census data into\n",
        "\n",
        "## Subsetting Data\n",
        "\n",
        "### Total Enrollment\n",
        "\n",
        "From the larger dataset we are going to select certain data outlining total enrollment to create subset showing enrollment rates across age groups and schools in NC\n",
        "\n",
        "Name this subset whatever you choose and use the ed_df command to create a subset\n",
        "\n",
        "For coding purposes, the filed was name \"enrolled\"\n",
        "\n",
        "Format as following"
      ],
      "metadata": {
        "id": "pRCcfUk1yGms"
      }
    },
    {
      "cell_type": "code",
      "source": [
        "enrolled=ed_df[[\"Label (Grouping)\",\"North Carolina!!Total!!Estimate\",\"North Carolina!!Percent!!Estimate\"]][0:11]"
      ],
      "metadata": {
        "id": "S4rWf9OqAfJG"
      },
      "execution_count": null,
      "outputs": []
    },
    {
      "cell_type": "markdown",
      "source": [
        "\n",
        "We are using the relevant columns and their respective data within this subset\n",
        "\n",
        "The columns used were titled \"North Carolina!!Total!!Estimate\",\"North Carolina!!Percent!!Estimate\"\n",
        "\n",
        "The data used is represented by the column names included in the brackets\n",
        "\n",
        "The second pair of brackets represents the rows within the columns that will be included (their numeric value)\n",
        "\n",
        "The rows used were 1-10, but represented as 1-11 in order to include the tenth row"
      ],
      "metadata": {
        "id": "lH-48rTvyJO6"
      }
    },
    {
      "cell_type": "markdown",
      "source": [
        "## Second Subset\n",
        "\n",
        "We are going to create a second subset using Private and Public School Data\n",
        "\n",
        "To do this, we will use the same commands, but name the subset differently\n",
        "\n",
        "For reproduction purposes, this file was named private_public\n",
        "\n",
        "We will code as follows"
      ],
      "metadata": {
        "id": "m-2fmnkTyq2y"
      }
    },
    {
      "cell_type": "code",
      "source": [
        "private_public=ed_df.iloc[0:11,[0, 5, 7, 9, 11] ]"
      ],
      "metadata": {
        "id": "b5qUhh2CCGl3"
      },
      "execution_count": null,
      "outputs": []
    },
    {
      "cell_type": "markdown",
      "source": [
        "This second subset contains row and column information representing enrollment in Public and Private schools separately\n",
        "\n",
        "This time, the second set of brackets used represents the columns to be included but uses their numeric order value rather than their written names\n",
        "\n",
        "I.e. [0, 5, 7, 9, 11]\n",
        "\n",
        "The first bracket set outlines the rows to be included in their numeric order value\n",
        "\n",
        "This remains 1-11 or 1:11\n",
        "\n",
        "## Downloading Subsets\n",
        "\n",
        "Now that we have created two subsets, we will download their respective .csv files to our computer\n",
        "\n",
        "To do this, we will use the .to_csv command\n",
        "\n",
        "This command will be performed twice, once for each new subset\n",
        "\n",
        "You will use whatever name you picked for your subsets and code as follows\n",
        "\n",
        "For reproduction purposes, the subset names, Enrolled and Private_Public< remained unchanged"
      ],
      "metadata": {
        "id": "BFhlMpxQyuPq"
      }
    },
    {
      "cell_type": "code",
      "source": [
        "enrolled.to_csv(\"Enrolled.csv\", index=False)"
      ],
      "metadata": {
        "id": "Q6FP7Tr1f6eA"
      },
      "execution_count": null,
      "outputs": []
    },
    {
      "cell_type": "code",
      "source": [
        "private_public.to_csv(\"PrivatePublic.csv\", index=False)"
      ],
      "metadata": {
        "id": "pufrioQHgHzL"
      },
      "execution_count": null,
      "outputs": []
    },
    {
      "cell_type": "markdown",
      "source": [
        "This will save the .csv files to your computer that you will locate and use for your reproduction means\n",
        "\n",
        "They will be located under the name that the command titled them\n",
        "\n",
        "In this case it would appear as enrolled.csv or private_public.csv"
      ],
      "metadata": {
        "id": "Sn5x2S-yzgDK"
      }
    }
  ]
}